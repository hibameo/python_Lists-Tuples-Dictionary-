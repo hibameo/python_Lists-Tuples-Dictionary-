{
  "nbformat": 4,
  "nbformat_minor": 0,
  "metadata": {
    "colab": {
      "provenance": [],
      "authorship_tag": "ABX9TyOa28H6CsOP+hUV3ZbDtHLH",
      "include_colab_link": true
    },
    "kernelspec": {
      "name": "python3",
      "display_name": "Python 3"
    },
    "language_info": {
      "name": "python"
    }
  },
  "cells": [
    {
      "cell_type": "markdown",
      "metadata": {
        "id": "view-in-github",
        "colab_type": "text"
      },
      "source": [
        "<a href=\"https://colab.research.google.com/github/hibameo/python_Lists-Tuples-Dictionary-/blob/main/python_Lists%2C_Tuples_%26_Dictionary_.ipynb\" target=\"_parent\"><img src=\"https://colab.research.google.com/assets/colab-badge.svg\" alt=\"Open In Colab\"/></a>"
      ]
    },
    {
      "cell_type": "markdown",
      "source": [
        "1. Lists"
      ],
      "metadata": {
        "id": "Zty6w9l524Ji"
      }
    },
    {
      "cell_type": "markdown",
      "source": [
        ". A list is a collection of items in an ordered, changeable (mutable) sequence.\n",
        "\n",
        "\n",
        ". Lists can contain elements of different types, such as numbers, strings, or even other lists.\n",
        "\n",
        "\n",
        ". Lists are defined using square brackets []."
      ],
      "metadata": {
        "id": "Hj6JDEqC3D9U"
      }
    },
    {
      "cell_type": "markdown",
      "source": [
        "Example:"
      ],
      "metadata": {
        "id": "kcHBBK3j3N2_"
      }
    },
    {
      "cell_type": "code",
      "source": [
        "my_list = [10, 20, 30, \"hello\", 50]\n",
        "print(my_list)  # Output: [10, 20, 30, 'hello', 50]\n"
      ],
      "metadata": {
        "colab": {
          "base_uri": "https://localhost:8080/"
        },
        "id": "S83u66rq3QO3",
        "outputId": "fc88fabc-4c5e-40b6-86fe-d0e732e0aeea"
      },
      "execution_count": 1,
      "outputs": [
        {
          "output_type": "stream",
          "name": "stdout",
          "text": [
            "[10, 20, 30, 'hello', 50]\n"
          ]
        }
      ]
    },
    {
      "cell_type": "markdown",
      "source": [
        ". Lists are mutable, meaning you can change their content after they've been created."
      ],
      "metadata": {
        "id": "7PtFUpBQ3YMa"
      }
    },
    {
      "cell_type": "markdown",
      "source": [
        "Operations on Lists:"
      ],
      "metadata": {
        "id": "hD0miVp63a-1"
      }
    },
    {
      "cell_type": "markdown",
      "source": [
        ". Accessing elements: You can access list elements using indices (starting from 0)."
      ],
      "metadata": {
        "id": "5eHf4a2h3dqD"
      }
    },
    {
      "cell_type": "code",
      "source": [
        "print(my_list[3])  # Output: 'hello'\n"
      ],
      "metadata": {
        "colab": {
          "base_uri": "https://localhost:8080/"
        },
        "id": "cq46G5s23gDV",
        "outputId": "9a14346b-2182-4721-e28d-ff4539ef88f0"
      },
      "execution_count": 2,
      "outputs": [
        {
          "output_type": "stream",
          "name": "stdout",
          "text": [
            "hello\n"
          ]
        }
      ]
    },
    {
      "cell_type": "markdown",
      "source": [
        ". Adding elements: You can add items to the list using append() or insert()."
      ],
      "metadata": {
        "id": "1E8Zal4B3kOV"
      }
    },
    {
      "cell_type": "code",
      "source": [
        "my_list.append(60)  # Adds 60 at the end\n",
        "print(my_list)  # Output: [10, 20, 30, 'hello', 50, 60]\n"
      ],
      "metadata": {
        "colab": {
          "base_uri": "https://localhost:8080/"
        },
        "id": "eoa1zxtK3mOj",
        "outputId": "256ad197-5c58-47a8-8ba1-f3834d8719cd"
      },
      "execution_count": 3,
      "outputs": [
        {
          "output_type": "stream",
          "name": "stdout",
          "text": [
            "[10, 20, 30, 'hello', 50, 60]\n"
          ]
        }
      ]
    },
    {
      "cell_type": "markdown",
      "source": [
        " 2 . Tuples"
      ],
      "metadata": {
        "id": "3KolbAYX3zNm"
      }
    },
    {
      "cell_type": "markdown",
      "source": [
        ". A tuple is similar to a list but with one key difference: it is immutable, meaning once created, its elements cannot be modified.\n",
        "\n",
        ". Tuples are defined using parentheses ()."
      ],
      "metadata": {
        "id": "5bp08PqM39CT"
      }
    },
    {
      "cell_type": "markdown",
      "source": [
        "Example:"
      ],
      "metadata": {
        "id": "nrJt6qFr4GA9"
      }
    },
    {
      "cell_type": "code",
      "source": [
        "my_tuple = (10, 20, 30, \"hello\")\n",
        "print(my_tuple)  # Output: (10, 20, 30, 'hello')\n"
      ],
      "metadata": {
        "colab": {
          "base_uri": "https://localhost:8080/"
        },
        "id": "OCdLh38V4J3q",
        "outputId": "92cad7d4-24c6-4220-9ab6-8af963a4fee8"
      },
      "execution_count": 4,
      "outputs": [
        {
          "output_type": "stream",
          "name": "stdout",
          "text": [
            "(10, 20, 30, 'hello')\n"
          ]
        }
      ]
    },
    {
      "cell_type": "markdown",
      "source": [
        ". Unlike lists, you cannot add, remove, or modify elements in a tuple after it's been created"
      ],
      "metadata": {
        "id": "ZpKVCkQ_4N81"
      }
    },
    {
      "cell_type": "markdown",
      "source": [
        "Operations on Tuples:"
      ],
      "metadata": {
        "id": "ybZJpFzI4R8N"
      }
    },
    {
      "cell_type": "markdown",
      "source": [
        ". Accessing elements: You can access elements of a tuple just like a list."
      ],
      "metadata": {
        "id": "K4PKPKTx4UNk"
      }
    },
    {
      "cell_type": "code",
      "source": [
        "print(my_tuple[2])  # Output: 30\n"
      ],
      "metadata": {
        "colab": {
          "base_uri": "https://localhost:8080/"
        },
        "id": "AbNncmqk4WVk",
        "outputId": "8da64c8a-8c46-4da2-8235-8f842983d8cc"
      },
      "execution_count": 5,
      "outputs": [
        {
          "output_type": "stream",
          "name": "stdout",
          "text": [
            "30\n"
          ]
        }
      ]
    },
    {
      "cell_type": "markdown",
      "source": [
        ". Concatenating: You can join two tuples."
      ],
      "metadata": {
        "id": "Eu89li8t4aQX"
      }
    },
    {
      "cell_type": "code",
      "source": [
        "new_tuple = my_tuple + (40, 50)\n",
        "print(new_tuple)  # Output: (10, 20, 30, 'hello', 40, 50)\n"
      ],
      "metadata": {
        "colab": {
          "base_uri": "https://localhost:8080/"
        },
        "id": "AyvyTb6K4cK_",
        "outputId": "688be27e-4c17-4017-d0f2-64a19086ff30"
      },
      "execution_count": 6,
      "outputs": [
        {
          "output_type": "stream",
          "name": "stdout",
          "text": [
            "(10, 20, 30, 'hello', 40, 50)\n"
          ]
        }
      ]
    },
    {
      "cell_type": "markdown",
      "source": [
        "3. Dictionaries"
      ],
      "metadata": {
        "id": "xosv9nP34e8C"
      }
    },
    {
      "cell_type": "markdown",
      "source": [
        "A dictionary is an unordered collection of key-value pairs.\n",
        "\n",
        "In a dictionary, each key must be unique, and each key maps to a value.\n",
        "\n",
        "Dictionaries are defined using curly braces {} with keys and values separated by a colon :."
      ],
      "metadata": {
        "id": "kpgi2cwi4h5J"
      }
    },
    {
      "cell_type": "markdown",
      "source": [
        "Example:"
      ],
      "metadata": {
        "id": "0TlsconK4ubb"
      }
    },
    {
      "cell_type": "code",
      "source": [
        "my_dict = {\"name\": \"hiba\", \"age\": 18, \"city\": \"karachi\"}\n",
        "print(my_dict)  # Output: {'name': 'Alice', 'age': 25, 'city': 'New York'}\n"
      ],
      "metadata": {
        "colab": {
          "base_uri": "https://localhost:8080/"
        },
        "id": "sGm5EjnZ4wa-",
        "outputId": "d3ee6b22-3277-40eb-94a3-21f837dd99d2"
      },
      "execution_count": 13,
      "outputs": [
        {
          "output_type": "stream",
          "name": "stdout",
          "text": [
            "{'name': 'hiba', 'age': 18, 'city': 'karachi'}\n"
          ]
        }
      ]
    },
    {
      "cell_type": "markdown",
      "source": [
        ". Keys are unique and cannot be duplicated, but the values can be."
      ],
      "metadata": {
        "id": "4iS2cQud4zxh"
      }
    },
    {
      "cell_type": "markdown",
      "source": [
        "Operations on Dictionaries:"
      ],
      "metadata": {
        "id": "FtpKCdie42pw"
      }
    },
    {
      "cell_type": "markdown",
      "source": [
        "Accessing values: You can access values by using their keys."
      ],
      "metadata": {
        "id": "WeZN7GLW448f"
      }
    },
    {
      "cell_type": "code",
      "source": [
        "print(my_dict[\"name\"])  # Output: hiba\n"
      ],
      "metadata": {
        "colab": {
          "base_uri": "https://localhost:8080/"
        },
        "id": "lsH7hDdJ46wE",
        "outputId": "4270821d-30ca-4974-b8aa-3efa91f51197"
      },
      "execution_count": 14,
      "outputs": [
        {
          "output_type": "stream",
          "name": "stdout",
          "text": [
            "hiba\n"
          ]
        }
      ]
    },
    {
      "cell_type": "markdown",
      "source": [
        "Adding items: You can add new key-value pairs."
      ],
      "metadata": {
        "id": "FwQwaf3A4-d4"
      }
    },
    {
      "cell_type": "code",
      "source": [
        "my_dict[\"country\"] = \"pakistan\"\n",
        "print(my_dict)  # Output: {'name': 'hiba', 'age': 19, 'city': 'karachi', 'country': 'pakistan'}\n"
      ],
      "metadata": {
        "colab": {
          "base_uri": "https://localhost:8080/"
        },
        "id": "iQH5G5K-5ACf",
        "outputId": "a4d3f111-2568-40d9-a071-bbee5955fe94"
      },
      "execution_count": 15,
      "outputs": [
        {
          "output_type": "stream",
          "name": "stdout",
          "text": [
            "{'name': 'hiba', 'age': 18, 'city': 'karachi', 'country': 'pakistan'}\n"
          ]
        }
      ]
    },
    {
      "cell_type": "markdown",
      "source": [
        "Removing items: You can remove items using the pop() method."
      ],
      "metadata": {
        "id": "QIHfKZL35EWt"
      }
    },
    {
      "cell_type": "code",
      "source": [
        "my_dict.pop(\"age\")\n",
        "print(my_dict)  # Output: {'name': 'hiba', 'city': 'karachi', 'country': 'pakistan'}\n"
      ],
      "metadata": {
        "colab": {
          "base_uri": "https://localhost:8080/"
        },
        "id": "HStizVv15I_i",
        "outputId": "174fa59b-5189-4e16-e7c5-7c823cffb0c6"
      },
      "execution_count": 16,
      "outputs": [
        {
          "output_type": "stream",
          "name": "stdout",
          "text": [
            "{'name': 'hiba', 'city': 'karachi', 'country': 'pakistan'}\n"
          ]
        }
      ]
    },
    {
      "cell_type": "markdown",
      "source": [
        "Summary:\n",
        "\n",
        "\n",
        "List: Ordered, mutable (can be changed).\n",
        "\n",
        "Tuple: Ordered, immutable (cannot be changed).\n",
        "\n",
        "Dictionary: Unordered, mutable, stores key-value pairs."
      ],
      "metadata": {
        "id": "tCy-3FPp5OBZ"
      }
    }
  ]
}